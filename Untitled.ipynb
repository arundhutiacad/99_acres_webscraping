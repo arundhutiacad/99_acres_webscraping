{
 "cells": [
  {
   "cell_type": "code",
   "execution_count": 7,
   "id": "a7c709b4",
   "metadata": {},
   "outputs": [],
   "source": [
    "import requests\n",
    "from bs4 import BeautifulSoup\n",
    "import csv\n",
    "import re\n",
    "import pandas as pd"
   ]
  },
  {
   "cell_type": "code",
   "execution_count": 8,
   "id": "29865b49",
   "metadata": {},
   "outputs": [],
   "source": [
    "# User Agent\n",
    "headers = { 'User-Agent': 'Mozilla/5.0 (Windows NT 10.0; Win64; x64) AppleWebKit/537.36 (KHTML, like Gecko) Chrome/76.0.3809.132 Safari/537.36'}"
   ]
  },
  {
   "cell_type": "code",
   "execution_count": 9,
   "id": "6e746ba4",
   "metadata": {},
   "outputs": [],
   "source": [
    "# Base URL for city insights\n",
    "base_url = 'https://www.99acres.com/real-estate-city-insights-lrffid?preference=RENTAL&src_page=HP'\n"
   ]
  },
  {
   "cell_type": "code",
   "execution_count": 10,
   "id": "c11ccbef",
   "metadata": {},
   "outputs": [],
   "source": [
    "def fetch_city_data():\n",
    "    response = requests.get(base_url, headers=headers)\n",
    "    soup = BeautifulSoup(response.content, 'html.parser')\n",
    "\n",
    "    # Example selector for city names (update based on actual HTML structure)\n",
    "    city_elements = soup.select('.city-name-class')  # Replace with actual class or selector\n",
    "    cities = [city.get_text().strip() for city in city_elements]\n",
    "\n",
    "    city_locality_data = []\n",
    "\n",
    "    for city in cities:\n",
    "        print(f\"Processing city: {city}\")\n",
    "        # Construct URL for localities in the city (Update URL pattern accordingly)\n",
    "        locality_url = f'https://www.99acres.com/property-in-{city.replace(\" \", \"-\").lower()}'  \n",
    "        locality_response = requests.get(locality_url, headers=headers)\n",
    "        locality_soup = BeautifulSoup(locality_response.content, 'html.parser')\n",
    "\n",
    "        # Example selector for localities (update this based on actual HTML structure)\n",
    "        locality_elements = locality_soup.select('.locality-name-class')  # Replace with actual class or selector\n",
    "        localities = [locality.get_text().strip() for locality in locality_elements]\n",
    "\n",
    "        for locality in localities:\n",
    "            print(f\"Processing locality: {locality}\")\n",
    "            # Construct URL for properties in the locality (Update URL pattern accordingly)\n",
    "            properties_url = f'https://www.99acres.com/property-in-{locality.replace(\" \", \"-\").lower()}'  \n",
    "            properties_response = requests.get(properties_url, headers=headers)\n",
    "            properties_soup = BeautifulSoup(properties_response.content, 'html.parser')\n",
    "\n",
    "            # Example selector for properties (update this based on actual HTML structure)\n",
    "            property_elements = properties_soup.select('.property-name-class')  # Replace with actual class or selector\n",
    "            properties = [property.get_text().strip() for property in property_elements]\n",
    "\n",
    "            for property_name in properties:\n",
    "                city_locality_data.append([city, locality, property_name])\n",
    "                \n",
    "            # Sleep to avoid overwhelming the server\n",
    "            time.sleep(2)\n",
    "    "
   ]
  },
  {
   "cell_type": "code",
   "execution_count": 11,
   "id": "873bd396",
   "metadata": {},
   "outputs": [
    {
     "ename": "NameError",
     "evalue": "name 'city_locality_data' is not defined",
     "output_type": "error",
     "traceback": [
      "\u001b[0;31m---------------------------------------------------------------------------\u001b[0m",
      "\u001b[0;31mNameError\u001b[0m                                 Traceback (most recent call last)",
      "Cell \u001b[0;32mIn[11], line 2\u001b[0m\n\u001b[1;32m      1\u001b[0m \u001b[38;5;66;03m# Save to CSV\u001b[39;00m\n\u001b[0;32m----> 2\u001b[0m df \u001b[38;5;241m=\u001b[39m pd\u001b[38;5;241m.\u001b[39mDataFrame(city_locality_data, columns\u001b[38;5;241m=\u001b[39m[\u001b[38;5;124m'\u001b[39m\u001b[38;5;124mCity\u001b[39m\u001b[38;5;124m'\u001b[39m, \u001b[38;5;124m'\u001b[39m\u001b[38;5;124mLocality\u001b[39m\u001b[38;5;124m'\u001b[39m, \u001b[38;5;124m'\u001b[39m\u001b[38;5;124mProperty Name\u001b[39m\u001b[38;5;124m'\u001b[39m])\n\u001b[1;32m      3\u001b[0m df\u001b[38;5;241m.\u001b[39mto_csv(\u001b[38;5;124m'\u001b[39m\u001b[38;5;124mrental_properties.csv\u001b[39m\u001b[38;5;124m'\u001b[39m, index\u001b[38;5;241m=\u001b[39m\u001b[38;5;28;01mFalse\u001b[39;00m)\n\u001b[1;32m      4\u001b[0m \u001b[38;5;28mprint\u001b[39m(\u001b[38;5;124m\"\u001b[39m\u001b[38;5;124mData saved to rental_properties.csv\u001b[39m\u001b[38;5;124m\"\u001b[39m)\n",
      "\u001b[0;31mNameError\u001b[0m: name 'city_locality_data' is not defined"
     ]
    }
   ],
   "source": [
    " # Save to CSV\n",
    "df = pd.DataFrame(city_locality_data, columns=['City', 'Locality', 'Property Name'])\n",
    "df.to_csv('rental_properties.csv', index=False)\n",
    "print(\"Data saved to rental_properties.csv\")"
   ]
  },
  {
   "cell_type": "code",
   "execution_count": null,
   "id": "850b786f",
   "metadata": {},
   "outputs": [],
   "source": []
  }
 ],
 "metadata": {
  "kernelspec": {
   "display_name": "Python 3 (ipykernel)",
   "language": "python",
   "name": "python3"
  },
  "language_info": {
   "codemirror_mode": {
    "name": "ipython",
    "version": 3
   },
   "file_extension": ".py",
   "mimetype": "text/x-python",
   "name": "python",
   "nbconvert_exporter": "python",
   "pygments_lexer": "ipython3",
   "version": "3.11.3"
  }
 },
 "nbformat": 4,
 "nbformat_minor": 5
}

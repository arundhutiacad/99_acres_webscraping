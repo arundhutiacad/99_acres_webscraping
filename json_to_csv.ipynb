{
 "cells": [
  {
   "cell_type": "code",
   "execution_count": 2,
   "id": "744918a3",
   "metadata": {},
   "outputs": [
    {
     "name": "stdout",
     "output_type": "stream",
     "text": [
      "Data saved to final.csv\n"
     ]
    }
   ],
   "source": [
    "import json\n",
    "import csv\n",
    "\n",
    "# Function to load JSON data and save it to final.csv\n",
    "def save_json_to_csv(json_file, csv_file='final.csv'):\n",
    "    # Load the JSON data from the file\n",
    "    with open(json_file, 'r', encoding='utf-8') as file:\n",
    "        city_localities = json.load(file)\n",
    "\n",
    "    # Open the CSV file for writing\n",
    "    with open(csv_file, mode='w', newline='', encoding='utf-8') as file:\n",
    "        writer = csv.writer(file)\n",
    "        \n",
    "        # Write the header\n",
    "        writer.writerow(['City', 'Locality', 'Price per sq.ft'])\n",
    "        \n",
    "        # Write the data\n",
    "        for city, localities in city_localities.items():\n",
    "            for i in range(0, len(localities), 2):\n",
    "                locality = localities[i]\n",
    "                price = localities[i+1] if i+1 < len(localities) else 'NA'\n",
    "                writer.writerow([city.split('-in-')[-1].capitalize(), locality, price])\n",
    "    \n",
    "    print(f\"Data saved to {csv_file}\")\n",
    "\n",
    "# Call the function with your JSON file\n",
    "save_json_to_csv('city_localities.json', 'final.csv')\n"
   ]
  },
  {
   "cell_type": "code",
   "execution_count": 5,
   "id": "71caf693",
   "metadata": {},
   "outputs": [
    {
     "name": "stdout",
     "output_type": "stream",
     "text": [
      "Data saved to final.csv\n"
     ]
    }
   ],
   "source": [
    "import json\n",
    "import csv\n",
    "\n",
    "def save_json_to_csv(json_files, csv_file='final.csv'):\n",
    "    combined_data = {}\n",
    "\n",
    "    # Load and combine data from all JSON files\n",
    "    for json_file in json_files:\n",
    "        with open(json_file, 'r', encoding='utf-8') as file:\n",
    "            data = json.load(file)\n",
    "            for city, localities in data.items():\n",
    "                if city not in combined_data:\n",
    "                    combined_data[city] = localities\n",
    "                else:\n",
    "                    combined_data[city].extend(localities)\n",
    "    \n",
    "    # Open the CSV file for writing\n",
    "    with open(csv_file, mode='w', newline='', encoding='utf-8') as file:\n",
    "        writer = csv.writer(file)\n",
    "        \n",
    "        # Write the header\n",
    "        writer.writerow(['City', 'Locality', 'Property Type'])\n",
    "        \n",
    "        # Write the data\n",
    "        for city, localities in combined_data.items():\n",
    "            # Extract city name from the key if it's in the format 'localities-in-cityname'\n",
    "            city_name = city.split('-in-')[-1].capitalize()\n",
    "            if isinstance(localities, dict):\n",
    "                for locality, properties in localities.items():\n",
    "                    for prop in properties:\n",
    "                        writer.writerow([city_name, locality, prop])\n",
    "            elif isinstance(localities, list):\n",
    "                for locality in localities:\n",
    "                    writer.writerow([city_name, locality, 'N/A'])  # 'N/A' for missing property type info\n",
    "    \n",
    "    print(f\"Data saved to {csv_file}\")\n",
    "\n",
    "# Call the function with your JSON files\n",
    "save_json_to_csv(['city_localities.json', 'city_localities_properties (1).json'], 'final.csv')\n"
   ]
  },
  {
   "cell_type": "code",
   "execution_count": 7,
   "id": "5894f527",
   "metadata": {},
   "outputs": [
    {
     "name": "stdout",
     "output_type": "stream",
     "text": [
      "Data saved to day 3.csv\n"
     ]
    }
   ],
   "source": [
    "import json\n",
    "import csv\n",
    "\n",
    "def save_unique_properties_to_csv(json_file, csv_file='unique_properties.csv'):\n",
    "    with open(json_file, 'r', encoding='utf-8') as file:\n",
    "        data = json.load(file)\n",
    "\n",
    "    combined_data = []\n",
    "\n",
    "    # Process each city and locality\n",
    "    for city_key, localities in data.items():\n",
    "        city_name = city_key.split('-in-')[-1].capitalize()\n",
    "        for locality, properties in localities.items():\n",
    "            unique_properties = set(properties)  # Get unique properties\n",
    "            for prop in unique_properties:\n",
    "                combined_data.append([city_name, locality, prop])\n",
    "    \n",
    "    # Write the unique properties to a CSV file\n",
    "    with open(csv_file, mode='w', newline='', encoding='utf-8') as file:\n",
    "        writer = csv.writer(file)\n",
    "        \n",
    "        # Write the header\n",
    "        writer.writerow(['City', 'Locality', 'Property Name'])\n",
    "        \n",
    "        # Write the data\n",
    "        writer.writerows(combined_data)\n",
    "    \n",
    "    print(f\"Data saved to {csv_file}\")\n",
    "\n",
    "# Call the function with your JSON file\n",
    "save_unique_properties_to_csv('city_localities_properties (1).json', 'day 3.csv')\n"
   ]
  },
  {
   "cell_type": "code",
   "execution_count": null,
   "id": "5ead2cbb",
   "metadata": {},
   "outputs": [],
   "source": []
  }
 ],
 "metadata": {
  "kernelspec": {
   "display_name": "Python 3 (ipykernel)",
   "language": "python",
   "name": "python3"
  },
  "language_info": {
   "codemirror_mode": {
    "name": "ipython",
    "version": 3
   },
   "file_extension": ".py",
   "mimetype": "text/x-python",
   "name": "python",
   "nbconvert_exporter": "python",
   "pygments_lexer": "ipython3",
   "version": "3.11.3"
  }
 },
 "nbformat": 4,
 "nbformat_minor": 5
}

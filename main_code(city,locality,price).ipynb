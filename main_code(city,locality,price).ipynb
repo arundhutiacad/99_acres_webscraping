{
 "cells": [
  {
   "cell_type": "code",
   "execution_count": 33,
   "id": "f62b1c14",
   "metadata": {
    "scrolled": true
   },
   "outputs": [
    {
     "name": "stdout",
     "output_type": "stream",
     "text": [
      "Requirement already satisfied: selenium in /Users/arundhutichakraborty/anaconda3/lib/python3.11/site-packages (4.17.2)\n",
      "Requirement already satisfied: urllib3[socks]<3,>=1.26 in /Users/arundhutichakraborty/anaconda3/lib/python3.11/site-packages (from selenium) (1.26.16)\n",
      "Requirement already satisfied: trio~=0.17 in /Users/arundhutichakraborty/anaconda3/lib/python3.11/site-packages (from selenium) (0.24.0)\n",
      "Requirement already satisfied: trio-websocket~=0.9 in /Users/arundhutichakraborty/anaconda3/lib/python3.11/site-packages (from selenium) (0.11.1)\n",
      "Requirement already satisfied: certifi>=2021.10.8 in /Users/arundhutichakraborty/anaconda3/lib/python3.11/site-packages (from selenium) (2023.5.7)\n",
      "Requirement already satisfied: typing_extensions>=4.9.0 in /Users/arundhutichakraborty/anaconda3/lib/python3.11/site-packages (from selenium) (4.12.2)\n",
      "Requirement already satisfied: attrs>=20.1.0 in /Users/arundhutichakraborty/anaconda3/lib/python3.11/site-packages (from trio~=0.17->selenium) (22.1.0)\n",
      "Requirement already satisfied: sortedcontainers in /Users/arundhutichakraborty/anaconda3/lib/python3.11/site-packages (from trio~=0.17->selenium) (2.4.0)\n",
      "Requirement already satisfied: idna in /Users/arundhutichakraborty/anaconda3/lib/python3.11/site-packages (from trio~=0.17->selenium) (3.4)\n",
      "Requirement already satisfied: outcome in /Users/arundhutichakraborty/anaconda3/lib/python3.11/site-packages (from trio~=0.17->selenium) (1.3.0.post0)\n",
      "Requirement already satisfied: sniffio>=1.3.0 in /Users/arundhutichakraborty/anaconda3/lib/python3.11/site-packages (from trio~=0.17->selenium) (1.3.0)\n",
      "Requirement already satisfied: wsproto>=0.14 in /Users/arundhutichakraborty/anaconda3/lib/python3.11/site-packages (from trio-websocket~=0.9->selenium) (1.2.0)\n",
      "Requirement already satisfied: PySocks!=1.5.7,<2.0,>=1.5.6 in /Users/arundhutichakraborty/anaconda3/lib/python3.11/site-packages (from urllib3[socks]<3,>=1.26->selenium) (1.7.1)\n",
      "Requirement already satisfied: h11<1,>=0.9.0 in /Users/arundhutichakraborty/anaconda3/lib/python3.11/site-packages (from wsproto>=0.14->trio-websocket~=0.9->selenium) (0.14.0)\n",
      "Note: you may need to restart the kernel to use updated packages.\n"
     ]
    }
   ],
   "source": [
    "pip install selenium"
   ]
  },
  {
   "cell_type": "code",
   "execution_count": 38,
   "id": "30ade2f9",
   "metadata": {},
   "outputs": [],
   "source": [
    "from selenium import webdriver\n",
    "from selenium.webdriver.common.keys import Keys\n",
    "import pandas as pd\n",
    "import json\n",
    "import time\n",
    "from selenium.webdriver.chrome.options import Options\n",
    "from selenium.webdriver.chrome.service import Service\n",
    "from selenium.webdriver.common.by import By\n",
    "from selenium.webdriver.support.ui import WebDriverWait\n",
    "from selenium.webdriver.support import expected_conditions as EC\n",
    "from selenium.webdriver.common.by import By"
   ]
  },
  {
   "cell_type": "code",
   "execution_count": 39,
   "id": "9297e7f4",
   "metadata": {},
   "outputs": [],
   "source": [
    "chrome_options = Options()\n",
    "driver_path = '/Users/arundhutichakraborty/Downloads/chromedriver-mac-x64/chromedriver'\n",
    "service = Service(driver_path)\n",
    "driver = webdriver.Chrome(service=service, options=chrome_options)"
   ]
  },
  {
   "cell_type": "code",
   "execution_count": 40,
   "id": "f69a294e",
   "metadata": {},
   "outputs": [],
   "source": [
    "driver.get(\"https://www.99acres.com/real-estate-city-insights-lrffid?preference=RENTAL&src_page=HP\")"
   ]
  },
  {
   "cell_type": "code",
   "execution_count": 41,
   "id": "e9663272",
   "metadata": {},
   "outputs": [
    {
     "name": "stdout",
     "output_type": "stream",
     "text": [
      "[<selenium.webdriver.remote.webelement.WebElement (session=\"4b26407df976c52ea1af2aa651060734\", element=\"f.03ACC637FB9050DEC89D0C8321C414B8.d.1937E2981675ED2E94B7D949626C0D71.e.8\")>, <selenium.webdriver.remote.webelement.WebElement (session=\"4b26407df976c52ea1af2aa651060734\", element=\"f.03ACC637FB9050DEC89D0C8321C414B8.d.1937E2981675ED2E94B7D949626C0D71.e.9\")>, <selenium.webdriver.remote.webelement.WebElement (session=\"4b26407df976c52ea1af2aa651060734\", element=\"f.03ACC637FB9050DEC89D0C8321C414B8.d.1937E2981675ED2E94B7D949626C0D71.e.10\")>, <selenium.webdriver.remote.webelement.WebElement (session=\"4b26407df976c52ea1af2aa651060734\", element=\"f.03ACC637FB9050DEC89D0C8321C414B8.d.1937E2981675ED2E94B7D949626C0D71.e.11\")>, <selenium.webdriver.remote.webelement.WebElement (session=\"4b26407df976c52ea1af2aa651060734\", element=\"f.03ACC637FB9050DEC89D0C8321C414B8.d.1937E2981675ED2E94B7D949626C0D71.e.12\")>, <selenium.webdriver.remote.webelement.WebElement (session=\"4b26407df976c52ea1af2aa651060734\", element=\"f.03ACC637FB9050DEC89D0C8321C414B8.d.1937E2981675ED2E94B7D949626C0D71.e.13\")>, <selenium.webdriver.remote.webelement.WebElement (session=\"4b26407df976c52ea1af2aa651060734\", element=\"f.03ACC637FB9050DEC89D0C8321C414B8.d.1937E2981675ED2E94B7D949626C0D71.e.14\")>, <selenium.webdriver.remote.webelement.WebElement (session=\"4b26407df976c52ea1af2aa651060734\", element=\"f.03ACC637FB9050DEC89D0C8321C414B8.d.1937E2981675ED2E94B7D949626C0D71.e.15\")>, <selenium.webdriver.remote.webelement.WebElement (session=\"4b26407df976c52ea1af2aa651060734\", element=\"f.03ACC637FB9050DEC89D0C8321C414B8.d.1937E2981675ED2E94B7D949626C0D71.e.16\")>, <selenium.webdriver.remote.webelement.WebElement (session=\"4b26407df976c52ea1af2aa651060734\", element=\"f.03ACC637FB9050DEC89D0C8321C414B8.d.1937E2981675ED2E94B7D949626C0D71.e.17\")>, <selenium.webdriver.remote.webelement.WebElement (session=\"4b26407df976c52ea1af2aa651060734\", element=\"f.03ACC637FB9050DEC89D0C8321C414B8.d.1937E2981675ED2E94B7D949626C0D71.e.18\")>, <selenium.webdriver.remote.webelement.WebElement (session=\"4b26407df976c52ea1af2aa651060734\", element=\"f.03ACC637FB9050DEC89D0C8321C414B8.d.1937E2981675ED2E94B7D949626C0D71.e.19\")>, <selenium.webdriver.remote.webelement.WebElement (session=\"4b26407df976c52ea1af2aa651060734\", element=\"f.03ACC637FB9050DEC89D0C8321C414B8.d.1937E2981675ED2E94B7D949626C0D71.e.20\")>, <selenium.webdriver.remote.webelement.WebElement (session=\"4b26407df976c52ea1af2aa651060734\", element=\"f.03ACC637FB9050DEC89D0C8321C414B8.d.1937E2981675ED2E94B7D949626C0D71.e.21\")>, <selenium.webdriver.remote.webelement.WebElement (session=\"4b26407df976c52ea1af2aa651060734\", element=\"f.03ACC637FB9050DEC89D0C8321C414B8.d.1937E2981675ED2E94B7D949626C0D71.e.22\")>]\n",
      "['Bangalore', 'Delhi', 'Hyderabad', 'Pune', 'Chennai', 'Mumbai', 'Kolkata', 'Navi Mumba...', 'Gurgaon', 'Ahmedabad', 'Jaipur', 'Lucknow', 'Ghaziabad', 'Nagpur', 'Noida']\n",
      "['https://www.99acres.com/localities-in-bangalore-lrffid', 'https://www.99acres.com/localities-in-delhi-lrffid', 'https://www.99acres.com/localities-in-hyderabad-lrffid', 'https://www.99acres.com/localities-in-pune-lrffid', 'https://www.99acres.com/localities-in-chennai-lrffid', 'https://www.99acres.com/localities-in-mumbai-lrffid', 'https://www.99acres.com/localities-in-kolkata-lrffid', 'https://www.99acres.com/localities-in-navi-mumbai-lrffid', 'https://www.99acres.com/localities-in-gurgaon-lrffid', 'https://www.99acres.com/localities-in-ahmedabad-lrffid', 'https://www.99acres.com/localities-in-jaipur-lrffid', 'https://www.99acres.com/localities-in-lucknow-lrffid', 'https://www.99acres.com/localities-in-ghaziabad-lrffid', 'https://www.99acres.com/localities-in-nagpur-lrffid', 'https://www.99acres.com/localities-in-noida-lrffid']\n"
     ]
    }
   ],
   "source": [
    "city_elements = driver.find_elements(By.CLASS_NAME, 'ccd__heading')\n",
    "city_names = [element.text.replace(\"Localities in \", \"\") for element in city_elements]\n",
    "print(city_elements)\n",
    "print(city_names)\n",
    "city_urls = []\n",
    "for element in city_elements:\n",
    "    city_urls.append(element.get_attribute('href'))\n",
    "print(city_urls)"
   ]
  },
  {
   "cell_type": "code",
   "execution_count": 42,
   "id": "d51b1c3c",
   "metadata": {},
   "outputs": [
    {
     "name": "stdout",
     "output_type": "stream",
     "text": [
      "Extracted 15 city URLs.\n"
     ]
    }
   ],
   "source": [
    "with open('city_urls.json', 'w') as file:\n",
    "    json.dump(city_urls, file)\n",
    "    \n",
    "print(f\"Extracted {len(city_urls)} city URLs.\")\n",
    "driver.quit()"
   ]
  },
  {
   "cell_type": "code",
   "execution_count": 44,
   "id": "a02f045a",
   "metadata": {},
   "outputs": [],
   "source": [
    "def initialize_driver():\n",
    "    chrome_options = Options()\n",
    "    chrome_options.add_argument(\"user-agent=Mozilla/5.0 (Windows NT 10.0; Win64; x64) AppleWebKit/537.36 (KHTML, like Gecko) Chrome/91.0.4472.124 Safari/537.36\")\n",
    "    return webdriver.Chrome(options=chrome_options)"
   ]
  },
  {
   "cell_type": "code",
   "execution_count": 47,
   "id": "dc4cb8e0",
   "metadata": {},
   "outputs": [],
   "source": [
    "with open('city_urls.json', 'r') as file:\n",
    "    city_urls = json.load(file)\n",
    "    \n",
    "city_localities = {}\n",
    "city_localities_elements = {}"
   ]
  },
  {
   "cell_type": "code",
   "execution_count": 48,
   "id": "298d6db5",
   "metadata": {},
   "outputs": [
    {
     "name": "stdout",
     "output_type": "stream",
     "text": [
      "Processing URL: https://www.99acres.com/localities-in-bangalore-lrffid\n",
      "Error processing URL https://www.99acres.com/localities-in-bangalore-lrffid: HTTPConnectionPool(host='localhost', port=56283): Max retries exceeded with url: /session/4b26407df976c52ea1af2aa651060734/execute/sync (Caused by NewConnectionError('<urllib3.connection.HTTPConnection object at 0x160555910>: Failed to establish a new connection: [Errno 61] Connection refused'))\n",
      "Processing URL: https://www.99acres.com/localities-in-delhi-lrffid\n",
      "Error processing URL https://www.99acres.com/localities-in-delhi-lrffid: HTTPConnectionPool(host='localhost', port=56283): Max retries exceeded with url: /session/4b26407df976c52ea1af2aa651060734/execute/sync (Caused by NewConnectionError('<urllib3.connection.HTTPConnection object at 0x160580210>: Failed to establish a new connection: [Errno 61] Connection refused'))\n",
      "Processing URL: https://www.99acres.com/localities-in-hyderabad-lrffid\n",
      "Error processing URL https://www.99acres.com/localities-in-hyderabad-lrffid: HTTPConnectionPool(host='localhost', port=56283): Max retries exceeded with url: /session/4b26407df976c52ea1af2aa651060734/execute/sync (Caused by NewConnectionError('<urllib3.connection.HTTPConnection object at 0x1605711d0>: Failed to establish a new connection: [Errno 61] Connection refused'))\n",
      "Processing URL: https://www.99acres.com/localities-in-pune-lrffid\n",
      "Error processing URL https://www.99acres.com/localities-in-pune-lrffid: HTTPConnectionPool(host='localhost', port=56283): Max retries exceeded with url: /session/4b26407df976c52ea1af2aa651060734/execute/sync (Caused by NewConnectionError('<urllib3.connection.HTTPConnection object at 0x1605659d0>: Failed to establish a new connection: [Errno 61] Connection refused'))\n",
      "Processing URL: https://www.99acres.com/localities-in-chennai-lrffid\n",
      "Error processing URL https://www.99acres.com/localities-in-chennai-lrffid: HTTPConnectionPool(host='localhost', port=56283): Max retries exceeded with url: /session/4b26407df976c52ea1af2aa651060734/execute/sync (Caused by NewConnectionError('<urllib3.connection.HTTPConnection object at 0x160481410>: Failed to establish a new connection: [Errno 61] Connection refused'))\n",
      "Processing URL: https://www.99acres.com/localities-in-mumbai-lrffid\n",
      "Error processing URL https://www.99acres.com/localities-in-mumbai-lrffid: HTTPConnectionPool(host='localhost', port=56283): Max retries exceeded with url: /session/4b26407df976c52ea1af2aa651060734/execute/sync (Caused by NewConnectionError('<urllib3.connection.HTTPConnection object at 0x16047e610>: Failed to establish a new connection: [Errno 61] Connection refused'))\n",
      "Processing URL: https://www.99acres.com/localities-in-kolkata-lrffid\n",
      "Error processing URL https://www.99acres.com/localities-in-kolkata-lrffid: HTTPConnectionPool(host='localhost', port=56283): Max retries exceeded with url: /session/4b26407df976c52ea1af2aa651060734/execute/sync (Caused by NewConnectionError('<urllib3.connection.HTTPConnection object at 0x16047d010>: Failed to establish a new connection: [Errno 61] Connection refused'))\n",
      "Processing URL: https://www.99acres.com/localities-in-navi-mumbai-lrffid\n",
      "Error processing URL https://www.99acres.com/localities-in-navi-mumbai-lrffid: HTTPConnectionPool(host='localhost', port=56283): Max retries exceeded with url: /session/4b26407df976c52ea1af2aa651060734/execute/sync (Caused by NewConnectionError('<urllib3.connection.HTTPConnection object at 0x1604884d0>: Failed to establish a new connection: [Errno 61] Connection refused'))\n",
      "Processing URL: https://www.99acres.com/localities-in-gurgaon-lrffid\n",
      "Error processing URL https://www.99acres.com/localities-in-gurgaon-lrffid: HTTPConnectionPool(host='localhost', port=56283): Max retries exceeded with url: /session/4b26407df976c52ea1af2aa651060734/execute/sync (Caused by NewConnectionError('<urllib3.connection.HTTPConnection object at 0x160474550>: Failed to establish a new connection: [Errno 61] Connection refused'))\n",
      "Processing URL: https://www.99acres.com/localities-in-ahmedabad-lrffid\n",
      "Error processing URL https://www.99acres.com/localities-in-ahmedabad-lrffid: Message: \n",
      "Stacktrace:\n",
      "0   chromedriver                        0x0000000103279208 cxxbridge1$str$ptr + 1927396\n",
      "1   chromedriver                        0x000000010327166c cxxbridge1$str$ptr + 1895752\n",
      "2   chromedriver                        0x0000000102e6c808 cxxbridge1$string$len + 89564\n",
      "3   chromedriver                        0x0000000102eb0bcc cxxbridge1$string$len + 369056\n",
      "4   chromedriver                        0x0000000102eea228 cxxbridge1$string$len + 604156\n",
      "5   chromedriver                        0x0000000102ea5698 cxxbridge1$string$len + 322668\n",
      "6   chromedriver                        0x0000000102ea6310 cxxbridge1$string$len + 325860\n",
      "7   chromedriver                        0x000000010323fe78 cxxbridge1$str$ptr + 1693012\n",
      "8   chromedriver                        0x000000010324477c cxxbridge1$str$ptr + 1711704\n",
      "9   chromedriver                        0x00000001032253ec cxxbridge1$str$ptr + 1583816\n",
      "10  chromedriver                        0x000000010324504c cxxbridge1$str$ptr + 1713960\n",
      "11  chromedriver                        0x0000000103215fc8 cxxbridge1$str$ptr + 1521316\n",
      "12  chromedriver                        0x0000000103262b68 cxxbridge1$str$ptr + 1835588\n",
      "13  chromedriver                        0x0000000103262ce4 cxxbridge1$str$ptr + 1835968\n",
      "14  chromedriver                        0x0000000103271308 cxxbridge1$str$ptr + 1894884\n",
      "15  libsystem_pthread.dylib             0x000000019ebd1f94 _pthread_start + 136\n",
      "16  libsystem_pthread.dylib             0x000000019ebccd34 thread_start + 8\n",
      "\n",
      "Processing URL: https://www.99acres.com/localities-in-jaipur-lrffid\n",
      "Error processing URL https://www.99acres.com/localities-in-jaipur-lrffid: Message: \n",
      "Stacktrace:\n",
      "0   chromedriver                        0x00000001025dd208 cxxbridge1$str$ptr + 1927396\n",
      "1   chromedriver                        0x00000001025d566c cxxbridge1$str$ptr + 1895752\n",
      "2   chromedriver                        0x00000001021d0808 cxxbridge1$string$len + 89564\n",
      "3   chromedriver                        0x0000000102214bcc cxxbridge1$string$len + 369056\n",
      "4   chromedriver                        0x000000010224e228 cxxbridge1$string$len + 604156\n",
      "5   chromedriver                        0x0000000102209698 cxxbridge1$string$len + 322668\n",
      "6   chromedriver                        0x000000010220a310 cxxbridge1$string$len + 325860\n",
      "7   chromedriver                        0x00000001025a3e78 cxxbridge1$str$ptr + 1693012\n",
      "8   chromedriver                        0x00000001025a877c cxxbridge1$str$ptr + 1711704\n",
      "9   chromedriver                        0x00000001025893ec cxxbridge1$str$ptr + 1583816\n",
      "10  chromedriver                        0x00000001025a904c cxxbridge1$str$ptr + 1713960\n",
      "11  chromedriver                        0x0000000102579fc8 cxxbridge1$str$ptr + 1521316\n",
      "12  chromedriver                        0x00000001025c6b68 cxxbridge1$str$ptr + 1835588\n",
      "13  chromedriver                        0x00000001025c6ce4 cxxbridge1$str$ptr + 1835968\n",
      "14  chromedriver                        0x00000001025d5308 cxxbridge1$str$ptr + 1894884\n",
      "15  libsystem_pthread.dylib             0x000000019ebd1f94 _pthread_start + 136\n",
      "16  libsystem_pthread.dylib             0x000000019ebccd34 thread_start + 8\n",
      "\n",
      "Processing URL: https://www.99acres.com/localities-in-lucknow-lrffid\n",
      "Error processing URL https://www.99acres.com/localities-in-lucknow-lrffid: Message: \n",
      "Stacktrace:\n",
      "0   chromedriver                        0x0000000102b4d208 cxxbridge1$str$ptr + 1927396\n",
      "1   chromedriver                        0x0000000102b4566c cxxbridge1$str$ptr + 1895752\n",
      "2   chromedriver                        0x0000000102740808 cxxbridge1$string$len + 89564\n",
      "3   chromedriver                        0x0000000102784bcc cxxbridge1$string$len + 369056\n",
      "4   chromedriver                        0x00000001027be228 cxxbridge1$string$len + 604156\n",
      "5   chromedriver                        0x0000000102779698 cxxbridge1$string$len + 322668\n",
      "6   chromedriver                        0x000000010277a310 cxxbridge1$string$len + 325860\n",
      "7   chromedriver                        0x0000000102b13e78 cxxbridge1$str$ptr + 1693012\n",
      "8   chromedriver                        0x0000000102b1877c cxxbridge1$str$ptr + 1711704\n",
      "9   chromedriver                        0x0000000102af93ec cxxbridge1$str$ptr + 1583816\n",
      "10  chromedriver                        0x0000000102b1904c cxxbridge1$str$ptr + 1713960\n",
      "11  chromedriver                        0x0000000102ae9fc8 cxxbridge1$str$ptr + 1521316\n",
      "12  chromedriver                        0x0000000102b36b68 cxxbridge1$str$ptr + 1835588\n",
      "13  chromedriver                        0x0000000102b36ce4 cxxbridge1$str$ptr + 1835968\n",
      "14  chromedriver                        0x0000000102b45308 cxxbridge1$str$ptr + 1894884\n",
      "15  libsystem_pthread.dylib             0x000000019ebd1f94 _pthread_start + 136\n",
      "16  libsystem_pthread.dylib             0x000000019ebccd34 thread_start + 8\n",
      "\n"
     ]
    },
    {
     "name": "stdout",
     "output_type": "stream",
     "text": [
      "Processing URL: https://www.99acres.com/localities-in-ghaziabad-lrffid\n",
      "Error processing URL https://www.99acres.com/localities-in-ghaziabad-lrffid: Message: \n",
      "Stacktrace:\n",
      "0   chromedriver                        0x00000001052e1208 cxxbridge1$str$ptr + 1927396\n",
      "1   chromedriver                        0x00000001052d966c cxxbridge1$str$ptr + 1895752\n",
      "2   chromedriver                        0x0000000104ed4808 cxxbridge1$string$len + 89564\n",
      "3   chromedriver                        0x0000000104f18bcc cxxbridge1$string$len + 369056\n",
      "4   chromedriver                        0x0000000104f52228 cxxbridge1$string$len + 604156\n",
      "5   chromedriver                        0x0000000104f0d698 cxxbridge1$string$len + 322668\n",
      "6   chromedriver                        0x0000000104f0e310 cxxbridge1$string$len + 325860\n",
      "7   chromedriver                        0x00000001052a7e78 cxxbridge1$str$ptr + 1693012\n",
      "8   chromedriver                        0x00000001052ac77c cxxbridge1$str$ptr + 1711704\n",
      "9   chromedriver                        0x000000010528d3ec cxxbridge1$str$ptr + 1583816\n",
      "10  chromedriver                        0x00000001052ad04c cxxbridge1$str$ptr + 1713960\n",
      "11  chromedriver                        0x000000010527dfc8 cxxbridge1$str$ptr + 1521316\n",
      "12  chromedriver                        0x00000001052cab68 cxxbridge1$str$ptr + 1835588\n",
      "13  chromedriver                        0x00000001052cace4 cxxbridge1$str$ptr + 1835968\n",
      "14  chromedriver                        0x00000001052d9308 cxxbridge1$str$ptr + 1894884\n",
      "15  libsystem_pthread.dylib             0x000000019ebd1f94 _pthread_start + 136\n",
      "16  libsystem_pthread.dylib             0x000000019ebccd34 thread_start + 8\n",
      "\n",
      "Processing URL: https://www.99acres.com/localities-in-nagpur-lrffid\n",
      "Error processing URL https://www.99acres.com/localities-in-nagpur-lrffid: Message: \n",
      "Stacktrace:\n",
      "0   chromedriver                        0x0000000102911208 cxxbridge1$str$ptr + 1927396\n",
      "1   chromedriver                        0x000000010290966c cxxbridge1$str$ptr + 1895752\n",
      "2   chromedriver                        0x0000000102504808 cxxbridge1$string$len + 89564\n",
      "3   chromedriver                        0x0000000102548bcc cxxbridge1$string$len + 369056\n",
      "4   chromedriver                        0x0000000102582228 cxxbridge1$string$len + 604156\n",
      "5   chromedriver                        0x000000010253d698 cxxbridge1$string$len + 322668\n",
      "6   chromedriver                        0x000000010253e310 cxxbridge1$string$len + 325860\n",
      "7   chromedriver                        0x00000001028d7e78 cxxbridge1$str$ptr + 1693012\n",
      "8   chromedriver                        0x00000001028dc77c cxxbridge1$str$ptr + 1711704\n",
      "9   chromedriver                        0x00000001028bd3ec cxxbridge1$str$ptr + 1583816\n",
      "10  chromedriver                        0x00000001028dd04c cxxbridge1$str$ptr + 1713960\n",
      "11  chromedriver                        0x00000001028adfc8 cxxbridge1$str$ptr + 1521316\n",
      "12  chromedriver                        0x00000001028fab68 cxxbridge1$str$ptr + 1835588\n",
      "13  chromedriver                        0x00000001028face4 cxxbridge1$str$ptr + 1835968\n",
      "14  chromedriver                        0x0000000102909308 cxxbridge1$str$ptr + 1894884\n",
      "15  libsystem_pthread.dylib             0x000000019ebd1f94 _pthread_start + 136\n",
      "16  libsystem_pthread.dylib             0x000000019ebccd34 thread_start + 8\n",
      "\n",
      "Processing URL: https://www.99acres.com/localities-in-noida-lrffid\n",
      "Error processing URL https://www.99acres.com/localities-in-noida-lrffid: Message: \n",
      "Stacktrace:\n",
      "0   chromedriver                        0x0000000100f15208 cxxbridge1$str$ptr + 1927396\n",
      "1   chromedriver                        0x0000000100f0d66c cxxbridge1$str$ptr + 1895752\n",
      "2   chromedriver                        0x0000000100b08808 cxxbridge1$string$len + 89564\n",
      "3   chromedriver                        0x0000000100b4cbcc cxxbridge1$string$len + 369056\n",
      "4   chromedriver                        0x0000000100b86228 cxxbridge1$string$len + 604156\n",
      "5   chromedriver                        0x0000000100b41698 cxxbridge1$string$len + 322668\n",
      "6   chromedriver                        0x0000000100b42310 cxxbridge1$string$len + 325860\n",
      "7   chromedriver                        0x0000000100edbe78 cxxbridge1$str$ptr + 1693012\n",
      "8   chromedriver                        0x0000000100ee077c cxxbridge1$str$ptr + 1711704\n",
      "9   chromedriver                        0x0000000100ec13ec cxxbridge1$str$ptr + 1583816\n",
      "10  chromedriver                        0x0000000100ee104c cxxbridge1$str$ptr + 1713960\n",
      "11  chromedriver                        0x0000000100eb1fc8 cxxbridge1$str$ptr + 1521316\n",
      "12  chromedriver                        0x0000000100efeb68 cxxbridge1$str$ptr + 1835588\n",
      "13  chromedriver                        0x0000000100efece4 cxxbridge1$str$ptr + 1835968\n",
      "14  chromedriver                        0x0000000100f0d308 cxxbridge1$str$ptr + 1894884\n",
      "15  libsystem_pthread.dylib             0x000000019ebd1f94 _pthread_start + 136\n",
      "16  libsystem_pthread.dylib             0x000000019ebccd34 thread_start + 8\n",
      "\n"
     ]
    }
   ],
   "source": [
    "for url in city_urls:\n",
    "    print(f\"Processing URL: {url}\")\n",
    "    city_localities_properties_urls = []\n",
    "    driver = initialize_driver()\n",
    "    \n",
    "    try:\n",
    "        driver.get(url)\n",
    "\n",
    "        # Wait for locality elements to load\n",
    "        WebDriverWait(driver, 10).until(\n",
    "            EC.presence_of_element_located((By.CLASS_NAME, 'section_header_semiBold'))\n",
    "        )\n",
    "\n",
    "        # Find and store localities\n",
    "        locality_elements = driver.find_elements(By.CLASS_NAME, 'section_header_semiBold')\n",
    "        \n",
    "        localities = [element.text for element in locality_elements]\n",
    "        for element in city_elements:\n",
    "            city_localities_properties_urls.append(element.get_attribute('href'))\n",
    "            \n",
    "        print(city_localities_properties_urls)\n",
    "        \n",
    "        city_name = url.split('/')[-1].split('-lrffid')[0]  # Extract city name from URL (adjust as necessary)\n",
    "        city_localities[city_name] = localities\n",
    "        city_localities_elements[city_name] = locality_elements\n",
    "        \n",
    "\n",
    "    except Exception as e:\n",
    "        print(f\"Error processing URL {url}: {e}\")\n",
    "\n",
    "    finally:\n",
    "        # Close the driver\n",
    "        driver.quit()\n",
    "    \n",
    "    # Pause to avoid overloading the server\n",
    "    time.sleep(5)"
   ]
  },
  {
   "cell_type": "code",
   "execution_count": 49,
   "id": "137815ae",
   "metadata": {},
   "outputs": [
    {
     "name": "stdout",
     "output_type": "stream",
     "text": [
      "Data saved to city_localities.json.\n"
     ]
    }
   ],
   "source": [
    "# Save the localities data to a file\n",
    "with open('city_localities.json', 'w') as file:\n",
    "    json.dump(city_localities, file)\n",
    "    \n",
    "with open('city_localities_elements.json', 'w') as file:\n",
    "    json.dump(city_localities_elements, file)\n",
    "\n",
    "\n",
    "print(\"Data saved to city_localities.json.\")"
   ]
  },
  {
   "cell_type": "code",
   "execution_count": 3,
   "id": "8bacae69",
   "metadata": {},
   "outputs": [
    {
     "name": "stdout",
     "output_type": "stream",
     "text": [
      "Data saved to Day 2 Final.csv\n"
     ]
    }
   ],
   "source": [
    "import json\n",
    "import csv\n",
    "\n",
    "# Function to load JSON data and save it to final.csv\n",
    "def save_json_to_csv(json_file, csv_file='final.csv'):\n",
    "    # Load the JSON data from the file\n",
    "    with open(json_file, 'r', encoding='utf-8') as file:\n",
    "        city_localities = json.load(file)\n",
    "\n",
    "    # Open the CSV file for writing\n",
    "    with open(csv_file, mode='w', newline='', encoding='utf-8') as file:\n",
    "        writer = csv.writer(file)\n",
    "        \n",
    "        # Write the header\n",
    "        writer.writerow(['City', 'Locality', 'Price per sq.ft'])\n",
    "        \n",
    "        # Write the data\n",
    "        for city, localities in city_localities.items():\n",
    "            for i in range(0, len(localities), 2):\n",
    "                locality = localities[i]\n",
    "                price = localities[i+1] if i+1 < len(localities) else 'NA'\n",
    "                writer.writerow([city.split('-in-')[-1].capitalize(), locality, price])\n",
    "    \n",
    "    print(f\"Data saved to {csv_file}\")\n",
    "\n",
    "# Call the function with your JSON file\n",
    "save_json_to_csv('city_localities.json', 'Day 2 Final.csv')\n"
   ]
  },
  {
   "cell_type": "code",
   "execution_count": null,
   "id": "483cede5",
   "metadata": {},
   "outputs": [],
   "source": []
  }
 ],
 "metadata": {
  "kernelspec": {
   "display_name": "Python 3 (ipykernel)",
   "language": "python",
   "name": "python3"
  },
  "language_info": {
   "codemirror_mode": {
    "name": "ipython",
    "version": 3
   },
   "file_extension": ".py",
   "mimetype": "text/x-python",
   "name": "python",
   "nbconvert_exporter": "python",
   "pygments_lexer": "ipython3",
   "version": "3.11.3"
  }
 },
 "nbformat": 4,
 "nbformat_minor": 5
}

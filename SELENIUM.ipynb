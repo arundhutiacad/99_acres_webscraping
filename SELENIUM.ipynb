{
 "cells": [
  {
   "cell_type": "code",
   "execution_count": 65,
   "id": "f62b1c14",
   "metadata": {
    "scrolled": true
   },
   "outputs": [
    {
     "name": "stdout",
     "output_type": "stream",
     "text": [
      "Requirement already satisfied: selenium in /Users/arundhutichakraborty/anaconda3/lib/python3.11/site-packages (4.17.2)\n",
      "Requirement already satisfied: urllib3[socks]<3,>=1.26 in /Users/arundhutichakraborty/anaconda3/lib/python3.11/site-packages (from selenium) (1.26.16)\n",
      "Requirement already satisfied: trio~=0.17 in /Users/arundhutichakraborty/anaconda3/lib/python3.11/site-packages (from selenium) (0.24.0)\n",
      "Requirement already satisfied: trio-websocket~=0.9 in /Users/arundhutichakraborty/anaconda3/lib/python3.11/site-packages (from selenium) (0.11.1)\n",
      "Requirement already satisfied: certifi>=2021.10.8 in /Users/arundhutichakraborty/anaconda3/lib/python3.11/site-packages (from selenium) (2023.5.7)\n",
      "Requirement already satisfied: typing_extensions>=4.9.0 in /Users/arundhutichakraborty/anaconda3/lib/python3.11/site-packages (from selenium) (4.12.2)\n",
      "Requirement already satisfied: attrs>=20.1.0 in /Users/arundhutichakraborty/anaconda3/lib/python3.11/site-packages (from trio~=0.17->selenium) (22.1.0)\n",
      "Requirement already satisfied: sortedcontainers in /Users/arundhutichakraborty/anaconda3/lib/python3.11/site-packages (from trio~=0.17->selenium) (2.4.0)\n",
      "Requirement already satisfied: idna in /Users/arundhutichakraborty/anaconda3/lib/python3.11/site-packages (from trio~=0.17->selenium) (3.4)\n",
      "Requirement already satisfied: outcome in /Users/arundhutichakraborty/anaconda3/lib/python3.11/site-packages (from trio~=0.17->selenium) (1.3.0.post0)\n",
      "Requirement already satisfied: sniffio>=1.3.0 in /Users/arundhutichakraborty/anaconda3/lib/python3.11/site-packages (from trio~=0.17->selenium) (1.3.0)\n",
      "Requirement already satisfied: wsproto>=0.14 in /Users/arundhutichakraborty/anaconda3/lib/python3.11/site-packages (from trio-websocket~=0.9->selenium) (1.2.0)\n",
      "Requirement already satisfied: PySocks!=1.5.7,<2.0,>=1.5.6 in /Users/arundhutichakraborty/anaconda3/lib/python3.11/site-packages (from urllib3[socks]<3,>=1.26->selenium) (1.7.1)\n",
      "Requirement already satisfied: h11<1,>=0.9.0 in /Users/arundhutichakraborty/anaconda3/lib/python3.11/site-packages (from wsproto>=0.14->trio-websocket~=0.9->selenium) (0.14.0)\n",
      "Note: you may need to restart the kernel to use updated packages.\n"
     ]
    }
   ],
   "source": [
    "pip install selenium"
   ]
  },
  {
   "cell_type": "code",
   "execution_count": 6,
   "id": "30ade2f9",
   "metadata": {},
   "outputs": [],
   "source": [
    "from selenium import webdriver\n",
    "from selenium.webdriver.common.keys import Keys\n",
    "import pandas as pd\n",
    "import time\n",
    "from selenium.webdriver.chrome.options import Options\n",
    "from selenium.webdriver.chrome.service import Service\n",
    "from selenium.webdriver.common.by import By\n",
    "from selenium.webdriver.support.ui import WebDriverWait\n",
    "from selenium.webdriver.support import expected_conditions as EC"
   ]
  },
  {
   "cell_type": "code",
   "execution_count": 7,
   "id": "9297e7f4",
   "metadata": {},
   "outputs": [],
   "source": [
    "# Initialize ChromeOptions\n",
    "chrome_options = Options()\n",
    "\n",
    "# Specify the path to the ChromeDriver\n",
    "driver_path = '/Users/arundhutichakraborty/Downloads/chromedriver-mac-x64/chromedriver'\n",
    "\n",
    "# Create a Service object for the ChromeDriver\n",
    "service = Service(driver_path)\n",
    "\n",
    "# Initialize the WebDriver with options and service\n",
    "driver = webdriver.Chrome(service=service, options=chrome_options)"
   ]
  },
  {
   "cell_type": "code",
   "execution_count": 25,
   "id": "f69a294e",
   "metadata": {},
   "outputs": [],
   "source": [
    "driver.get(\"https://www.99acres.com/real-estate-city-insights-lrffid?preference=RENTAL&src_page=HP\")"
   ]
  },
  {
   "cell_type": "code",
   "execution_count": 26,
   "id": "9620bb95",
   "metadata": {},
   "outputs": [
    {
     "name": "stdout",
     "output_type": "stream",
     "text": [
      "https://www.99acres.com/localities-in-bangalore-lrffid\n",
      "https://www.99acres.com/localities-in-delhi-lrffid\n",
      "https://www.99acres.com/localities-in-hyderabad-lrffid\n",
      "https://www.99acres.com/localities-in-pune-lrffid\n",
      "https://www.99acres.com/localities-in-chennai-lrffid\n",
      "https://www.99acres.com/localities-in-mumbai-lrffid\n",
      "https://www.99acres.com/localities-in-kolkata-lrffid\n",
      "https://www.99acres.com/localities-in-navi-mumbai-lrffid\n",
      "https://www.99acres.com/localities-in-gurgaon-lrffid\n",
      "https://www.99acres.com/localities-in-ahmedabad-lrffid\n",
      "https://www.99acres.com/localities-in-jaipur-lrffid\n",
      "https://www.99acres.com/localities-in-lucknow-lrffid\n",
      "https://www.99acres.com/localities-in-ghaziabad-lrffid\n",
      "https://www.99acres.com/localities-in-nagpur-lrffid\n",
      "https://www.99acres.com/localities-in-noida-lrffid\n"
     ]
    }
   ],
   "source": [
    "from selenium.webdriver.common.by import By\n",
    "\n",
    "# Find all elements with the specified class name\n",
    "elements = driver.find_elements(By.CLASS_NAME, 'ccd__heading')\n",
    "\n",
    "# Extract and print the href attributes of all found elements\n",
    "for element in elements:\n",
    "    href_value = element.get_attribute('href')\n",
    "    print(href_value)\n"
   ]
  },
  {
   "cell_type": "code",
   "execution_count": 9,
   "id": "c7302d7c",
   "metadata": {},
   "outputs": [
    {
     "name": "stdout",
     "output_type": "stream",
     "text": [
      "['Bangalore', 'Delhi', 'Hyderabad', 'Pune', 'Chennai', 'Mumbai', 'Kolkata', 'Navi Mumba...', 'Gurgaon', 'Ahmedabad', 'Jaipur', 'Lucknow', 'Ghaziabad', 'Nagpur', 'Noida']\n"
     ]
    }
   ],
   "source": [
    "# Find all elements with the specified class name for city links\n",
    "city_elements = driver.find_elements(By.CLASS_NAME, 'ccd__heading')\n",
    "\n",
    "# Extract the city names by removing \"Localities in\"\n",
    "\n",
    "\n",
    "# Print the cleaned city names\n",
    "print(cities)"
   ]
  },
  {
   "cell_type": "code",
   "execution_count": 78,
   "id": "dc272573",
   "metadata": {
    "scrolled": true
   },
   "outputs": [
    {
     "name": "stdout",
     "output_type": "stream",
     "text": [
      "['https://www.99acres.com/localities-in-bangalore-lrffid', 'https://www.99acres.com/localities-in-delhi-lrffid', 'https://www.99acres.com/localities-in-hyderabad-lrffid', 'https://www.99acres.com/localities-in-pune-lrffid', 'https://www.99acres.com/localities-in-chennai-lrffid', 'https://www.99acres.com/localities-in-mumbai-lrffid', 'https://www.99acres.com/localities-in-kolkata-lrffid', 'https://www.99acres.com/localities-in-navi-mumbai-lrffid', 'https://www.99acres.com/localities-in-gurgaon-lrffid', 'https://www.99acres.com/localities-in-ahmedabad-lrffid', 'https://www.99acres.com/localities-in-jaipur-lrffid', 'https://www.99acres.com/localities-in-lucknow-lrffid', 'https://www.99acres.com/localities-in-ghaziabad-lrffid', 'https://www.99acres.com/localities-in-nagpur-lrffid', 'https://www.99acres.com/localities-in-noida-lrffid']\n",
      "{}\n",
      "City: Bangalore, Localities: []\n",
      "City: Delhi, Localities: []\n",
      "City: Hyderabad, Localities: []\n",
      "City: Pune, Localities: []\n",
      "City: Chennai, Localities: []\n",
      "City: Mumbai, Localities: []\n",
      "City: Kolkata, Localities: []\n",
      "City: Navi Mumba..., Localities: []\n",
      "City: Gurgaon, Localities: []\n",
      "City: Ahmedabad, Localities: []\n",
      "City: Jaipur, Localities: []\n",
      "City: Lucknow, Localities: []\n",
      "City: Ghaziabad, Localities: []\n",
      "City: Nagpur, Localities: []\n",
      "City: Noida, Localities: []\n"
     ]
    }
   ],
   "source": [
    "# # Find all city elements and URLs\n",
    "# city_elements = driver.find_elements(By.CLASS_NAME, 'ccd__heading')\n",
    "# city_names = [element.text.replace(\"Localities in \", \"\") for element in city_elements]\n",
    "# city_urls = [element.get_attribute('href') for element in city_elements]\n",
    "# print(city_urls)\n",
    "\n",
    "# # Initialize a dictionary to store localities for each city\n",
    "# city_localities = {}\n",
    "# print(city_localities)\n",
    "# # Iterate over each city URL to find localities\n",
    "# for city, url in zip(city_names, city_urls):\n",
    "#     # Navigate to the city's page\n",
    "#     driver.get(url)\n",
    "#     time.sleep(3)  # Wait for the page to load (you may adjust this time if necessary)\n",
    "\n",
    "#     # Find localities within the city\n",
    "#     locality_elements = driver.find_elements(By.CLASS_NAME, 'section_header_semiBold Ng700')  # Replace with actual class name for localities\n",
    "#     localities = [element.text for element in locality_elements]\n",
    "    \n",
    "#     # Store the localities in the dictionary\n",
    "#     city_localities[city] = localities\n",
    "\n",
    "# # Print the localities for each city\n",
    "# for city, localities in city_localities.items():\n",
    "#     print(f\"City: {city}, Localities: {localities}\")"
   ]
  },
  {
   "cell_type": "code",
   "execution_count": 52,
   "id": "1c225960",
   "metadata": {},
   "outputs": [],
   "source": [
    "# Initialize ChromeOptions\n",
    "options = webdriver.ChromeOptions()\n",
    "options.add_argument('--start-maximized')\n",
    "options.add_argument(\"user-agent=Mozilla/5.0 (Windows NT 10.0; Win64; x64) AppleWebKit/537.36 (KHTML, like Gecko) Chrome/91.0.4472.124 Safari/537.36\")\n",
    "\n",
    "\n",
    "# Specify the path to the ChromeDriver\n",
    "driver_path = '/Users/arundhutichakraborty/Downloads/chromedriver-mac-x64/chromedriver'\n",
    "\n",
    "# Create a Service object for the ChromeDriver\n",
    "service = Service(driver_path)\n",
    "\n",
    "# Initialize the WebDriver with options and service\n",
    "driver = webdriver.Chrome(service=service, options=options)"
   ]
  },
  {
   "cell_type": "code",
   "execution_count": 53,
   "id": "18fad878",
   "metadata": {},
   "outputs": [],
   "source": [
    "driver.get(\"https://www.99acres.com/real-estate-city-insights-lrffid?preference=RENTAL&src_page=HP\")"
   ]
  },
  {
   "cell_type": "code",
   "execution_count": 54,
   "id": "e9663272",
   "metadata": {},
   "outputs": [
    {
     "name": "stdout",
     "output_type": "stream",
     "text": [
      "[<selenium.webdriver.remote.webelement.WebElement (session=\"b27e6fc1384c73df0f25d5b4c9afd556\", element=\"f.850194245D85A7C301E164A7924D2C48.d.79788BE377C21A32C0C71CF785123059.e.5\")>, <selenium.webdriver.remote.webelement.WebElement (session=\"b27e6fc1384c73df0f25d5b4c9afd556\", element=\"f.850194245D85A7C301E164A7924D2C48.d.79788BE377C21A32C0C71CF785123059.e.6\")>, <selenium.webdriver.remote.webelement.WebElement (session=\"b27e6fc1384c73df0f25d5b4c9afd556\", element=\"f.850194245D85A7C301E164A7924D2C48.d.79788BE377C21A32C0C71CF785123059.e.7\")>, <selenium.webdriver.remote.webelement.WebElement (session=\"b27e6fc1384c73df0f25d5b4c9afd556\", element=\"f.850194245D85A7C301E164A7924D2C48.d.79788BE377C21A32C0C71CF785123059.e.8\")>, <selenium.webdriver.remote.webelement.WebElement (session=\"b27e6fc1384c73df0f25d5b4c9afd556\", element=\"f.850194245D85A7C301E164A7924D2C48.d.79788BE377C21A32C0C71CF785123059.e.9\")>, <selenium.webdriver.remote.webelement.WebElement (session=\"b27e6fc1384c73df0f25d5b4c9afd556\", element=\"f.850194245D85A7C301E164A7924D2C48.d.79788BE377C21A32C0C71CF785123059.e.10\")>, <selenium.webdriver.remote.webelement.WebElement (session=\"b27e6fc1384c73df0f25d5b4c9afd556\", element=\"f.850194245D85A7C301E164A7924D2C48.d.79788BE377C21A32C0C71CF785123059.e.11\")>, <selenium.webdriver.remote.webelement.WebElement (session=\"b27e6fc1384c73df0f25d5b4c9afd556\", element=\"f.850194245D85A7C301E164A7924D2C48.d.79788BE377C21A32C0C71CF785123059.e.12\")>, <selenium.webdriver.remote.webelement.WebElement (session=\"b27e6fc1384c73df0f25d5b4c9afd556\", element=\"f.850194245D85A7C301E164A7924D2C48.d.79788BE377C21A32C0C71CF785123059.e.13\")>, <selenium.webdriver.remote.webelement.WebElement (session=\"b27e6fc1384c73df0f25d5b4c9afd556\", element=\"f.850194245D85A7C301E164A7924D2C48.d.79788BE377C21A32C0C71CF785123059.e.14\")>, <selenium.webdriver.remote.webelement.WebElement (session=\"b27e6fc1384c73df0f25d5b4c9afd556\", element=\"f.850194245D85A7C301E164A7924D2C48.d.79788BE377C21A32C0C71CF785123059.e.15\")>, <selenium.webdriver.remote.webelement.WebElement (session=\"b27e6fc1384c73df0f25d5b4c9afd556\", element=\"f.850194245D85A7C301E164A7924D2C48.d.79788BE377C21A32C0C71CF785123059.e.16\")>, <selenium.webdriver.remote.webelement.WebElement (session=\"b27e6fc1384c73df0f25d5b4c9afd556\", element=\"f.850194245D85A7C301E164A7924D2C48.d.79788BE377C21A32C0C71CF785123059.e.17\")>, <selenium.webdriver.remote.webelement.WebElement (session=\"b27e6fc1384c73df0f25d5b4c9afd556\", element=\"f.850194245D85A7C301E164A7924D2C48.d.79788BE377C21A32C0C71CF785123059.e.18\")>, <selenium.webdriver.remote.webelement.WebElement (session=\"b27e6fc1384c73df0f25d5b4c9afd556\", element=\"f.850194245D85A7C301E164A7924D2C48.d.79788BE377C21A32C0C71CF785123059.e.19\")>]\n",
      "['Bangalore', 'Delhi', 'Hyderabad', 'Pune', 'Chennai', 'Mumbai', 'Kolkata', 'Navi Mumba...', 'Gurgaon', 'Ahmedabad', 'Jaipur', 'Lucknow', 'Ghaziabad', 'Nagpur', 'Noida']\n",
      "['https://www.99acres.com/localities-in-bangalore-lrffid', 'https://www.99acres.com/localities-in-delhi-lrffid', 'https://www.99acres.com/localities-in-hyderabad-lrffid', 'https://www.99acres.com/localities-in-pune-lrffid', 'https://www.99acres.com/localities-in-chennai-lrffid', 'https://www.99acres.com/localities-in-mumbai-lrffid', 'https://www.99acres.com/localities-in-kolkata-lrffid', 'https://www.99acres.com/localities-in-navi-mumbai-lrffid', 'https://www.99acres.com/localities-in-gurgaon-lrffid', 'https://www.99acres.com/localities-in-ahmedabad-lrffid', 'https://www.99acres.com/localities-in-jaipur-lrffid', 'https://www.99acres.com/localities-in-lucknow-lrffid', 'https://www.99acres.com/localities-in-ghaziabad-lrffid', 'https://www.99acres.com/localities-in-nagpur-lrffid', 'https://www.99acres.com/localities-in-noida-lrffid']\n",
      "Bangalore   https://www.99acres.com/localities-in-bangalore-lrffid\n",
      "[]\n"
     ]
    }
   ],
   "source": [
    "# Find all city elements and URLs\n",
    "city_elements = driver.find_elements(By.CLASS_NAME, 'ccd__heading')\n",
    "city_names = [element.text.replace(\"Localities in \", \"\") for element in city_elements]\n",
    "print(city_elements)\n",
    "print(city_names)\n",
    "city_urls = [] #[element.get_attribute('href') for element in city_elements]\n",
    "for element in city_elements:\n",
    "    city_urls.append(element.get_attribute('href'))\n",
    "print(city_urls)\n",
    "\n",
    "    \n",
    "# print(city_urls)\n",
    "\n",
    "# Initialize a dictionary to store localities for each city\n",
    "city_localities = {}\n",
    "\n",
    "# Iterate over each city URL to find localities\n",
    "for city, url in zip(city_names, city_urls):\n",
    "    print(city, \" \", url)\n",
    "    # Navigate to the city's page\n",
    "    driver.get(\"https://www.99acres.com/localities-in-bangalore-lrffid?preference=RENTAL\")\n",
    "#     time.sleep(3)  # Adjust the wait time if necessary\n",
    "\n",
    "    # Find localities within the city by locating the anchor tag (<a>)\n",
    "    locality_elements = driver.find_elements(By.CLASS_NAME, 'section_header_semiBold')\n",
    "    print(locality_elements)\n",
    "#     localities = [element.text for element in locality_elements]\n",
    "    \n",
    "    break\n",
    "\n",
    "#     locality_urls = []\n",
    "#     for locality in locality_elements :\n",
    "#         locality_urls.append(locality.get_attribute('href'))\n",
    "        \n",
    "#     print(locality_urls)\n",
    "\n",
    "\n",
    "    # Store the localities in the dictionary\n",
    "#     city_localities[city] = localities\n",
    "\n",
    "# Print the localities for each city\n",
    "# for city, localities in city_localities.items():\n",
    "#     print(f\"City: {city}, Localities: {localities}\")\n"
   ]
  },
  {
   "cell_type": "code",
   "execution_count": 12,
   "id": "d51b1c3c",
   "metadata": {},
   "outputs": [],
   "source": []
  },
  {
   "cell_type": "code",
   "execution_count": null,
   "id": "a02f045a",
   "metadata": {},
   "outputs": [],
   "source": []
  },
  {
   "cell_type": "code",
   "execution_count": null,
   "id": "dc4cb8e0",
   "metadata": {},
   "outputs": [],
   "source": []
  },
  {
   "cell_type": "code",
   "execution_count": null,
   "id": "298d6db5",
   "metadata": {},
   "outputs": [],
   "source": []
  }
 ],
 "metadata": {
  "kernelspec": {
   "display_name": "Python 3 (ipykernel)",
   "language": "python",
   "name": "python3"
  },
  "language_info": {
   "codemirror_mode": {
    "name": "ipython",
    "version": 3
   },
   "file_extension": ".py",
   "mimetype": "text/x-python",
   "name": "python",
   "nbconvert_exporter": "python",
   "pygments_lexer": "ipython3",
   "version": "3.11.3"
  }
 },
 "nbformat": 4,
 "nbformat_minor": 5
}

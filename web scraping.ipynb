{
 "cells": [
  {
   "cell_type": "code",
   "execution_count": 1,
   "id": "5842850a",
   "metadata": {},
   "outputs": [],
   "source": [
    "import requests\n",
    "from bs4 import BeautifulSoup\n",
    "import pandas as pd\n",
    "import time"
   ]
  },
  {
   "cell_type": "code",
   "execution_count": 2,
   "id": "c18d05a3",
   "metadata": {},
   "outputs": [],
   "source": [
    "# Initialize the all_data list to store the final scraped data\n",
    "all_data = []\n",
    "\n",
    "# Example data appending process (replace this with actual scraping loop)\n",
    "all_data.append({\n",
    "    \"City\": \"Example City\",\n",
    "    \"Locality\": \"Example Locality\",\n",
    "    \"Property Name\": \"Example Property\"\n",
    "})\n"
   ]
  },
  {
   "cell_type": "code",
   "execution_count": 3,
   "id": "98068376",
   "metadata": {},
   "outputs": [],
   "source": [
    "# Constants\n",
    "BASE_URL = \"https://www.99acres.com\"\n",
    "CITY_URL = \"https://www.99acres.com/rent-property-in-{city}-ffid\"\n",
    "HEADERS = {'User-Agent': 'Mozilla/5.0 (Windows NT 10.0; Win64; x64) AppleWebKit/537.36 (KHTML, like Gecko) Chrome/58.0.3029.110 Safari/537.3'}"
   ]
  },
  {
   "cell_type": "code",
   "execution_count": 4,
   "id": "d14cb4d8",
   "metadata": {},
   "outputs": [],
   "source": [
    "# Function to scrape city names\n",
    "def scrape_city_names():\n",
    "    city_names = []\n",
    "    try:\n",
    "        response = requests.get(BASE_URL, headers=HEADERS)\n",
    "        response.raise_for_status()\n",
    "        soup = BeautifulSoup(response.text, 'html.parser')\n",
    "        \n",
    "        # Modify this selector based on the actual structure of the page\n",
    "        cities = soup.select('a.city-link')  # Example of a class where city names might be listed\n",
    "        for city in cities:\n",
    "            city_name = city.text.strip()\n",
    "            city_names.append(city_name)\n",
    "        return city_names\n",
    "    except requests.exceptions.RequestException as e:\n",
    "        print(f\"Error fetching city names: {e}\")\n",
    "        return []"
   ]
  },
  {
   "cell_type": "code",
   "execution_count": 5,
   "id": "6e6d572c",
   "metadata": {},
   "outputs": [],
   "source": [
    "# Function to scrape localities within a city\n",
    "def scrape_localities(city):\n",
    "    localities = []\n",
    "    city_url = CITY_URL.format(city=city.lower().replace(\" \", \"-\"))\n",
    "    try:\n",
    "        response = requests.get(city_url, headers=HEADERS)\n",
    "        response.raise_for_status()\n",
    "        soup = BeautifulSoup(response.text, 'html.parser')\n",
    "        \n",
    "        # Modify this selector based on the actual structure of the page\n",
    "        locality_elements = soup.select('a.locality-link')  # Example of locality links\n",
    "        for locality in locality_elements:\n",
    "            locality_name = locality.text.strip()\n",
    "            localities.append(locality_name)\n",
    "        return localities\n",
    "    except requests.exceptions.RequestException as e:\n",
    "        print(f\"Error fetching localities for {city}: {e}\")\n",
    "        return []"
   ]
  },
  {
   "cell_type": "code",
   "execution_count": 6,
   "id": "c70b4c7a",
   "metadata": {},
   "outputs": [],
   "source": [
    "# Function to scrape properties in a locality\n",
    "def scrape_properties(city, locality):\n",
    "    properties = []\n",
    "    locality_url = f\"{BASE_URL}/{city}/{locality}-rentals\"\n",
    "    try:\n",
    "        response = requests.get(locality_url, headers=HEADERS)\n",
    "        response.raise_for_status()\n",
    "        soup = BeautifulSoup(response.text, 'html.parser')\n",
    "\n",
    "        # Modify this selector based on the actual structure of the page\n",
    "        property_elements = soup.select('a.property-link')  # Example of property links\n",
    "        for prop in property_elements:\n",
    "            property_name = prop.text.strip()\n",
    "            properties.append(property_name)\n",
    "        return properties\n",
    "    except requests.exceptions.RequestException as e:\n",
    "        print(f\"Error fetching properties in {locality}, {city}: {e}\")\n",
    "        return []"
   ]
  },
  {
   "cell_type": "code",
   "execution_count": 7,
   "id": "1bd08c91",
   "metadata": {},
   "outputs": [],
   "source": [
    "def main():\n",
    "    all_data = []  # Initialize all_data list here\n",
    "\n",
    "    # Step 1: Scrape all city names\n",
    "    cities = scrape_city_names()\n",
    "\n",
    "    for city in cities:\n",
    "        time.sleep(1)  # Add delay to be polite\n",
    "        \n",
    "        # Step 2: Scrape localities in each city\n",
    "        localities = scrape_localities(city)\n",
    "\n",
    "        for locality in localities:\n",
    "            time.sleep(1)  # Add delay to be polite\n",
    "            \n",
    "            # Step 3: Scrape properties in each locality\n",
    "            properties = scrape_properties(city, locality)\n",
    "\n",
    "            for property_name in properties:\n",
    "                all_data.append({\n",
    "                    \"City\": city,\n",
    "                    \"Locality\": locality,\n",
    "                    \"Property Name\": property_name\n",
    "                })"
   ]
  },
  {
   "cell_type": "code",
   "execution_count": 8,
   "id": "752a0258",
   "metadata": {},
   "outputs": [
    {
     "name": "stdout",
     "output_type": "stream",
     "text": [
      "Data saved to rental_properties.csv\n"
     ]
    }
   ],
   "source": [
    "df = pd.DataFrame(all_data)\n",
    "df.to_csv('rental_properties.csv', index=False)\n",
    "print(\"Data saved to rental_properties.csv\")"
   ]
  },
  {
   "cell_type": "code",
   "execution_count": null,
   "id": "bbeda64f",
   "metadata": {},
   "outputs": [],
   "source": []
  }
 ],
 "metadata": {
  "kernelspec": {
   "display_name": "Python 3 (ipykernel)",
   "language": "python",
   "name": "python3"
  },
  "language_info": {
   "codemirror_mode": {
    "name": "ipython",
    "version": 3
   },
   "file_extension": ".py",
   "mimetype": "text/x-python",
   "name": "python",
   "nbconvert_exporter": "python",
   "pygments_lexer": "ipython3",
   "version": "3.11.3"
  }
 },
 "nbformat": 4,
 "nbformat_minor": 5
}
